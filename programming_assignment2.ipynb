{
 "cells": [
  {
   "cell_type": "code",
   "execution_count": 4,
   "id": "c65e8e2f",
   "metadata": {},
   "outputs": [
    {
     "name": "stdout",
     "output_type": "stream",
     "text": [
      "Enter the number of kilometers: 2\n",
      "the converted miles is equal to :  1.242742\n"
     ]
    }
   ],
   "source": [
    "km=float(input(\"Enter the number of kilometers: \"))\n",
    "miles = km*0.621371\n",
    "print(\"the converted miles is equal to : \",miles)\n"
   ]
  },
  {
   "cell_type": "code",
   "execution_count": 7,
   "id": "e504ea39",
   "metadata": {},
   "outputs": [
    {
     "name": "stdout",
     "output_type": "stream",
     "text": [
      "Enter the temperature in degree : 33\n",
      "the temperature in degree fahrenheit is:  91.4\n"
     ]
    }
   ],
   "source": [
    "C=float(input(\"Enter the temperature in degree : \"))\n",
    "F=C*(9/5)+32\n",
    "print(\"the temperature in degree fahrenheit is: \",F)"
   ]
  },
  {
   "cell_type": "code",
   "execution_count": 9,
   "id": "8f29c598",
   "metadata": {},
   "outputs": [
    {
     "name": "stdout",
     "output_type": "stream",
     "text": [
      "     July 2022\n",
      "Mo Tu We Th Fr Sa Su\n",
      "             1  2  3\n",
      " 4  5  6  7  8  9 10\n",
      "11 12 13 14 15 16 17\n",
      "18 19 20 21 22 23 24\n",
      "25 26 27 28 29 30 31\n",
      "\n"
     ]
    }
   ],
   "source": [
    "#python program to display calender#\n",
    "import calendar\n",
    "yy=2022\n",
    "mm=7\n",
    "print(calendar.month(yy,mm))\n"
   ]
  },
  {
   "cell_type": "code",
   "execution_count": 10,
   "id": "1bdc43af",
   "metadata": {},
   "outputs": [
    {
     "name": "stdout",
     "output_type": "stream",
     "text": [
      "Enter year: 2022\n",
      "Enter month: 7\n",
      "     July 2022\n",
      "Mo Tu We Th Fr Sa Su\n",
      "             1  2  3\n",
      " 4  5  6  7  8  9 10\n",
      "11 12 13 14 15 16 17\n",
      "18 19 20 21 22 23 24\n",
      "25 26 27 28 29 30 31\n",
      "\n"
     ]
    }
   ],
   "source": [
    "import calendar\n",
    "y=int(input(\"Enter year: \"))\n",
    "m=int(input(\"Enter month: \"))\n",
    "print(calendar.month(y,m))"
   ]
  },
  {
   "cell_type": "code",
   "execution_count": 5,
   "id": "aca25099",
   "metadata": {},
   "outputs": [
    {
     "name": "stdout",
     "output_type": "stream",
     "text": [
      "Enter the coefficient of xsquare: 1\n",
      "Enter the coefficient of x: 2\n",
      "Enter the constant: 1\n",
      "real and same roots\n",
      "-1.0\n"
     ]
    }
   ],
   "source": [
    "#finding the roots of quadratic equation#\n",
    "import math\n",
    "a=float(input(\"Enter the coefficient of xsquare: \"))\n",
    "b=float(input(\"Enter the coefficient of x: \"))\n",
    "c=float(input(\"Enter the constant: \"))\n",
    "D=b*b- 4*a*c\n",
    "sqrtD=math.sqrt(abs(D))\n",
    "if D>0:\n",
    "    print(\"Roots are real and distinct\")\n",
    "    print((-b+sqrtD)/(2*a))\n",
    "    print((-b-sqrtD)/(2*a))\n",
    "elif D==0:\n",
    "    print(\"real and same roots\")\n",
    "    print(-b /(2*a))\n",
    "else:\n",
    "    print(\"complex roots\")\n",
    "    print(-b/(2*a), \" +i\", sqrtD)\n",
    "    print(-b/(2*a), \" -i\", sqrtD)\n",
    "    "
   ]
  },
  {
   "cell_type": "code",
   "execution_count": 6,
   "id": "ff0b7e6a",
   "metadata": {},
   "outputs": [
    {
     "name": "stdout",
     "output_type": "stream",
     "text": [
      "values of x:   3 and value of y:   5\n"
     ]
    }
   ],
   "source": [
    "x=5\n",
    "y=3\n",
    "x,y = y,x\n",
    "print(\"values of x:  \", x , \"and value of y:  \",y)"
   ]
  },
  {
   "cell_type": "code",
   "execution_count": null,
   "id": "ef9a19e7",
   "metadata": {},
   "outputs": [],
   "source": []
  },
  {
   "cell_type": "code",
   "execution_count": null,
   "id": "720622aa",
   "metadata": {},
   "outputs": [],
   "source": []
  }
 ],
 "metadata": {
  "kernelspec": {
   "display_name": "Python 3 (ipykernel)",
   "language": "python",
   "name": "python3"
  },
  "language_info": {
   "codemirror_mode": {
    "name": "ipython",
    "version": 3
   },
   "file_extension": ".py",
   "mimetype": "text/x-python",
   "name": "python",
   "nbconvert_exporter": "python",
   "pygments_lexer": "ipython3",
   "version": "3.9.12"
  }
 },
 "nbformat": 4,
 "nbformat_minor": 5
}
